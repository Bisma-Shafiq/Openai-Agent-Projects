{
  "cells": [
    {
      "cell_type": "code",
      "execution_count": null,
      "metadata": {
        "id": "YS-aXMepIPi6"
      },
      "outputs": [],
      "source": [
        "%pip install -Uq openai-agents"
      ]
    },
    {
      "cell_type": "code",
      "execution_count": null,
      "metadata": {
        "id": "gcvV1MDDIZsL"
      },
      "outputs": [],
      "source": [
        "# Make your Jupyter Notebook capable of running asynchronous functions.\n",
        "\n",
        "import nest_asyncio\n",
        "nest_asyncio.apply()"
      ]
    },
    {
      "cell_type": "code",
      "execution_count": null,
      "metadata": {
        "id": "me5-REsCIrW3"
      },
      "outputs": [],
      "source": [
        "import os\n",
        "\n",
        "from agents import Agent, Runner, AsyncOpenAI, OpenAIChatCompletionsModel\n",
        "from agents.run import RunConfig"
      ]
    },
    {
      "cell_type": "code",
      "execution_count": null,
      "metadata": {
        "id": "HN_mt9X7IfFV"
      },
      "outputs": [],
      "source": [
        "from google.colab import  userdata\n",
        "\n",
        "gemini_api_key = userdata.get(\"GOOGLE_API_KEY\")\n",
        "\n",
        "# Check if the API key is present; if not, raise an error\n",
        "if not gemini_api_key:\n",
        "    raise ValueError(\"GEMINI_API_KEY is not set. Please ensure it is defined in your .env file.\")\n",
        "\n",
        "#Reference: https://ai.google.dev/gemini-api/docs/openai\n",
        "external_client = AsyncOpenAI(\n",
        "    api_key=gemini_api_key,\n",
        "    base_url=\"https://generativelanguage.googleapis.com/v1beta/openai/\",\n",
        ")\n",
        "\n",
        "model = OpenAIChatCompletionsModel(\n",
        "    model=\"gemini-2.0-flash\",\n",
        "    openai_client=external_client\n",
        ")\n",
        "\n",
        "\n",
        "config = RunConfig(\n",
        "    model=model,\n",
        "    model_provider=external_client,\n",
        "    tracing_disabled=True\n",
        ")"
      ]
    },
    {
      "cell_type": "markdown",
      "metadata": {
        "id": "8sodKd5TN9xp"
      },
      "source": [
        "#agent with sync runner"
      ]
    },
    {
      "cell_type": "code",
      "execution_count": null,
      "metadata": {
        "colab": {
          "base_uri": "https://localhost:8080/"
        },
        "collapsed": true,
        "id": "ZZJ-Ox9aIxSV",
        "outputId": "1fcfe91e-d096-42ef-f701-999dc85393a8"
      },
      "outputs": [
        {
          "name": "stdout",
          "output_type": "stream",
          "text": [
            "Alright, let's talk about how \"2 + 2\" might show up in statistics, even though it's not typically a statistical equation in itself. The beauty of statistics is that simple arithmetic can underpin more complex concepts.\n",
            "\n",
            "**Understanding the Context is Key**\n",
            "\n",
            "The first thing to realize is that \"2 + 2 = 4\" is a fundamental arithmetic truth.  In statistics, it's *how* we apply this basic arithmetic that makes it relevant.  Here are some scenarios where \"2 + 2\" could indirectly be used in a statistical context:\n",
            "\n",
            "**Scenario 1: Simple Frequency Counts**\n",
            "\n",
            "*   **Problem:** You're collecting data on the number of students who prefer different types of fruit. 2 students like apples, and 2 students like bananas. How many students like apples or bananas?\n",
            "*   **Solution:** 2 (apples) + 2 (bananas) = 4 students\n",
            "\n",
            "**Scenario 2:  Calculating a Total**\n",
            "\n",
            "*   **Problem:** You're calculating the total number of successes in a small experiment. In the first trial, you had 2 successes. In the second trial, you had 2 successes. What's the total number of successes?\n",
            "*   **Solution:** 2 (trial 1) + 2 (trial 2) = 4 successes\n",
            "\n",
            "**Scenario 3:  Degrees of Freedom (Simplified Example - Be Cautious!)**\n",
            "\n",
            "*Degrees of freedom is usually a more complex calculation, but here's a simplified analogy:*\n",
            "\n",
            "*   **Problem:** Imagine you have 4 independent slots to fill (let's say, choosing 4 numbers).  If you've already filled 2 slots with specific numbers based on a rule or constraint, and another 2 slots based on same or different rule or constraint, the degree of freedom is the number of values that are free to vary.\n",
            "*   **Connection:**  If we loosely associate this with constraints reducing freedom, you could *hypothetically* (and with significant simplification) consider a calculation involving 4 - 2 - 2 = 0. This is a REALLY stretched analogy, but it hints at how arithmetic can be part of a larger degrees of freedom calculation.  **Important: Do NOT use this as a true example of calculating degrees of freedom. It's for illustrative purposes only.**  Degrees of freedom are calculated differently depending on the statistical test (e.g., t-test, chi-square).\n",
            "\n",
            "**Scenario 4:  A Building Block for More Complex Calculations**\n",
            "\n",
            "*   **Problem:**  You're calculating a variance or standard deviation (measures of spread in data). The formula involves summing squared differences from the mean.  Let's say a small part of your calculation involves squaring the number 2.\n",
            "*   **Solution:**  Part of the larger calculation might require you to determine 2<sup>2</sup> which is 2 * 2 = 4\n",
            "\n",
            "**Key Takeaways**\n",
            "\n",
            "*   \"2 + 2 = 4\" is a basic arithmetic truth.\n",
            "*   In statistics, it's used as a building block within larger calculations.\n",
            "*   The specific application depends entirely on the context of the statistical problem.\n",
            "\n",
            "**Let me know if you'd like to explore specific statistical concepts (like mean, standard deviation, hypothesis testing) where arithmetic like this is used as a step in the process!**  I can give you more concrete examples then.  For example, I can show you how `2 + 2` would be used in calculating the mean (average) of a dataset.\n",
            "\n"
          ]
        }
      ],
      "source": [
        "agent : Agent = Agent(name=\"maths-tutor\", instructions = \"you are a maths teacher for high school\",model = model)\n",
        "result = Runner.run_sync(agent , \"solve 2+2 equation in statistics\", run_config=config)\n",
        "print(result.final_output)\n"
      ]
    },
    {
      "cell_type": "markdown",
      "metadata": {
        "id": "71KzcEcVOCV2"
      },
      "source": [
        "# agent with async runner"
      ]
    },
    {
      "cell_type": "code",
      "execution_count": null,
      "metadata": {
        "colab": {
          "base_uri": "https://localhost:8080/"
        },
        "collapsed": true,
        "id": "wVTxbuzfLHHo",
        "outputId": "f3021490-318d-4e0e-c558-114ae4c8a44f"
      },
      "outputs": [
        {
          "name": "stdout",
          "output_type": "stream",
          "text": [
            "Okay, let's clarify something first.  The equation \"2+2\" by itself isn't really a statistical problem.  Statistics deals with collecting, analyzing, interpreting, and presenting data.  So, the *equation* 2+2 doesn't really fit into that context.\n",
            "\n",
            "However, I think you might be hinting at a few possible scenarios where something that *looks* like \"2+2\" *could* come up within a statistical problem. Let's explore some possibilities:\n",
            "\n",
            "**Scenario 1:  Simple Frequency/Counting**\n",
            "\n",
            "*   **Context:**  You're collecting data on something.  For example, you're surveying students about their favorite color.  2 students say \"Blue\", and 2 students say \"Green\".\n",
            "*   **Equation:** 2 (Blue) + 2 (Green) = 4 (Total number of students who chose blue or green)\n",
            "*   **Statistical Relevance:** This is very basic data summarization. You're just counting occurrences and adding them up. You could then calculate percentages (e.g., 50% chose blue or green if there were 8 students total).\n",
            "\n",
            "**Scenario 2:  Averaging/Mean**\n",
            "\n",
            "*   **Context:** You have two sets of data, each with a single value.  For example, you measure the height of one plant twice, and you get 2 cm and 2 cm.\n",
            "*   **Equation:** To find the average height, you would do (2 + 2) / 2 = 4/2 = 2 cm\n",
            "*   **Statistical Relevance:** This demonstrates a very simple calculation of the mean (average) of a set of data.\n",
            "\n",
            "**Scenario 3:  Combinations (Less Likely, but Possible)**\n",
            "\n",
            "*   **Context:** You have two sets of independent events. The first has two possible outcomes, the second has two possible outcomes. For example, flipping two coins. The first has two outcomes: Heads or Tails (2). The second also has two outcomes: Heads or Tails (2).\n",
            "*   **Equation:** We're not *adding* here, we're *multiplying*: 2 outcomes * 2 outcomes = 4 possible combined outcomes. The possible outcomes are: (Heads, Heads), (Heads, Tails), (Tails, Heads), (Tails, Tails).\n",
            "*   **Statistical Relevance:** This introduces the idea of calculating probabilities and understanding sample spaces.\n",
            "\n",
            "**Scenario 4:  Discrete Data Addition**\n",
            "\n",
            "*   **Context:**  Imagine you're tracking something in discrete units. Let's say you're counting the number of cars that pass a certain point on a road in two separate 1-minute intervals. In the first minute, 2 cars pass. In the second minute, 2 cars pass.\n",
            "*   **Equation:** 2 cars + 2 cars = 4 cars.\n",
            "*   **Statistical Relevance:** This is about aggregating data over time (or other intervals). You might then use this data to estimate traffic flow or make predictions.\n",
            "\n",
            "**The Key Takeaway:**\n",
            "\n",
            "The equation \"2 + 2\" in itself isn't statistical. It's the *context* around the numbers that makes it statistical.  You need to have some kind of data collection, analysis, or interpretation happening for it to be a statistics problem.\n",
            "\n",
            "**To help me give you a more relevant answer, could you tell me:**\n",
            "\n",
            "*   What kind of problem are you working on?\n",
            "*   What does the \"2\" represent in your problem? What are you measuring or counting?\n",
            "\n",
            "Once I have more information, I can give you a much more specific and helpful explanation!\n",
            "\n"
          ]
        }
      ],
      "source": [
        "import asyncio\n",
        "from agents import Agent , Runner\n",
        "from agents.run import RunConfig\n",
        "\n",
        "\n",
        "async def main():\n",
        "  agent = Agent(name=\"maths-tutor\", instructions = \"you are a maths teacher for high school\")\n",
        "  result = await Runner.run(agent , \"solve 2+2 equation in statistics\", run_config=config)\n",
        "  print(result.final_output)\n",
        "\n",
        "if __name__==\"__main__\":\n",
        "  asyncio.run(main())"
      ]
    },
    {
      "cell_type": "markdown",
      "metadata": {
        "id": "ma-vFausuHYG"
      },
      "source": [
        "#Agent with Streeming"
      ]
    },
    {
      "cell_type": "code",
      "execution_count": null,
      "metadata": {
        "id": "Mk6L23NFxgdQ"
      },
      "outputs": [],
      "source": [
        "import os\n",
        "from agents import Agent, Runner, AsyncOpenAI, OpenAIChatCompletionsModel\n",
        "from agents.run import RunConfig\n",
        "from google.colab import userdata\n",
        "\n",
        "\n",
        "gemini_api_key = userdata.get(\"GOOGLE_API_KEY\")\n",
        "\n",
        "\n",
        "# Check if the API key is present; if not, raise an error\n",
        "if not gemini_api_key:\n",
        "    raise ValueError(\"GEMINI_API_KEY is not set. Please ensure it is defined in your .env file.\")\n",
        "\n",
        "#Reference: https://ai.google.dev/gemini-api/docs/openai\n",
        "external_client = AsyncOpenAI(\n",
        "    api_key=gemini_api_key,\n",
        "    base_url=\"https://generativelanguage.googleapis.com/v1beta/openai/\",\n",
        ")\n",
        "\n",
        "model = OpenAIChatCompletionsModel(\n",
        "    model=\"gemini-2.0-flash\",\n",
        "    openai_client=external_client\n",
        ")\n",
        "\n",
        "config = RunConfig(\n",
        "    model=model,\n",
        "    model_provider=external_client,\n",
        "    tracing_disabled=True\n",
        ")"
      ]
    },
    {
      "cell_type": "code",
      "execution_count": null,
      "metadata": {
        "colab": {
          "base_uri": "https://localhost:8080/"
        },
        "collapsed": true,
        "id": "82Qecr7mPvxg",
        "outputId": "e66861c2-43ea-4383-deb4-35a3cddee6af"
      },
      "outputs": [
        {
          "name": "stdout",
          "output_type": "stream",
          "text": [
            "Okay, predicting the future is always tricky, but based on current trends and expert forecasts, here are 5 technologies that are likely to be prominent and impactful in 2025:\n",
            "\n",
            "1.  **Artificial Intelligence (AI) and Machine Learning (ML):**\n",
            "    *   **Why:** AI and ML will be even more deeply integrated into nearly every aspect of life and work. Expect advancements in areas like:\n",
            "        *   **Natural Language Processing (NLP):** More sophisticated chatbots, virtual assistants, and automated content creation.\n",
            "        *   **Computer Vision:** Improved object recognition, facial recognition, and autonomous systems (e.g., self-driving cars).\n",
            "        *   **AI-driven Automation:** Greater automation of tasks in industries like manufacturing, healthcare, and customer service.\n",
            "        *   **Generative AI:** Tools that can create realistic images, videos, music, and text will become more widespread.\n",
            "\n",
            "2.  **5G and Advanced Connectivity:**\n",
            "    *   **Why:** 5G will be more widely deployed and mature, enabling faster speeds, lower latency, and greater network capacity. This will pave the way for:\n",
            "        *   **Enhanced Mobile Experiences:** Streaming, gaming, and augmented reality applications will become more seamless and immersive.\n",
            "        *   **Internet of Things (IoT) Expansion:** More connected devices in homes, cities, and industries, leading to smarter and more efficient systems.\n",
            "        *   **Remote Healthcare:** Telemedicine and remote patient monitoring will become more common and effective.\n",
            "        *   **Autonomous Vehicles:** Reliable and fast connectivity will be crucial for self-driving cars and other autonomous vehicles.\n",
            "\n",
            "3.  **Advanced Robotics and Automation:**\n",
            "    *   **Why:** Robotics will continue to evolve, becoming more intelligent, adaptable, and capable of performing complex tasks.\n",
            "        *   **Collaborative Robots (Cobots):** Robots designed to work alongside humans in manufacturing, logistics, and other industries.\n",
            "        *   **Robotics-as-a-Service (RaaS):** Easier access to robotics technology through subscription models.\n",
            "        *   **Automation in Logistics and Delivery:** Increased use of robots and drones for warehouse automation and last-mile delivery.\n",
            "        *   **Surgical Robots:** More precise and minimally invasive surgical procedures.\n",
            "\n",
            "4.  **Sustainable Technologies and Clean Energy:**\n",
            "    *   **Why:** Growing concerns about climate change and sustainability will drive innovation in clean energy and eco-friendly technologies.\n",
            "        *   **Renewable Energy:** Continued growth in solar, wind, and other renewable energy sources, along with improved energy storage solutions (e.g., advanced batteries).\n",
            "        *   **Electric Vehicles (EVs):** Wider adoption of EVs, with longer ranges, faster charging times, and more affordable options.\n",
            "        *   **Sustainable Materials:** Increased use of biodegradable plastics, recycled materials, and other eco-friendly alternatives.\n",
            "        *   **Carbon Capture and Storage:** Technologies to capture carbon emissions from industrial sources and store them underground.\n",
            "\n",
            "5.  **Extended Reality (XR):**\n",
            "    *   **Why:** XR, encompassing Augmented Reality (AR), Virtual Reality (VR), and Mixed Reality (MR), will become more mainstream and find applications in various industries.\n",
            "        *   **AR for Enhanced Productivity:** AR applications for training, maintenance, and remote assistance in manufacturing, healthcare, and other fields.\n",
            "        *   **VR for Immersive Experiences:** VR for entertainment, gaming, education, and virtual tourism.\n",
            "        *   **MR for Collaboration and Design:** MR for collaborative design, remote meetings, and real-time data visualization.\n",
            "        *   **Metaverse Development:** Continued exploration and development of metaverse platforms for social interaction, commerce, and entertainment.\n",
            "\n",
            "**Important Considerations:**\n",
            "\n",
            "*   **Interconnectedness:** These technologies are not isolated; they often intersect and reinforce each other. For example, AI can improve the efficiency of renewable energy systems, and 5G can enable more advanced AR/VR experiences.\n",
            "*   **Ethical Implications:** As these technologies become more powerful, it's crucial to address ethical concerns related to AI bias, data privacy, job displacement, and the responsible use of XR.\n",
            "*   **Unforeseen Breakthroughs:** Technological advancements are unpredictable, and there could be unexpected breakthroughs that disrupt the current landscape.\n",
            "\n",
            "This list provides a general overview of the technologies that are likely to be prominent in 2025. The specific applications and impact of these technologies will continue to evolve as they mature and become more widely adopted.\n"
          ]
        }
      ],
      "source": [
        "import asyncio\n",
        "\n",
        "from openai.types.responses import ResponseTextDeltaEvent\n",
        "\n",
        "from agents import Agent, Runner\n",
        "\n",
        "\n",
        "async def main():\n",
        "    agent = Agent(\n",
        "        name=\"researcher\",\n",
        "        instructions=\"You are a helpful assistant.\",\n",
        "        model=model\n",
        "    )\n",
        "\n",
        "    result = Runner.run_streamed(agent, input=\"Please tell me 5 top technologies of 2025 .\", run_config=config)\n",
        "    async for event in result.stream_events():\n",
        "        if event.type == \"raw_response_event\" and isinstance(event.data, ResponseTextDeltaEvent):\n",
        "            print(event.data.delta, end=\"\", flush=True)\n",
        "\n",
        "\n",
        "\n",
        "asyncio.run(main())"
      ]
    },
    {
      "cell_type": "code",
      "execution_count": null,
      "metadata": {
        "colab": {
          "base_uri": "https://localhost:8080/"
        },
        "id": "_32VJWN4S348",
        "outputId": "bc68e29b-80e2-4c96-ae88-024f72190371"
      },
      "outputs": [
        {
          "name": "stdout",
          "output_type": "stream",
          "text": [
            "=== Run starting ===\n",
            "Agent updated: Joker\n",
            "-- Tool was called\n",
            "-- Tool output: 10\n",
            "-- Message output:\n",
            " I am programmed to tell 10 jokes.\n",
            "\n",
            "=== Run complete ===\n"
          ]
        }
      ],
      "source": [
        "import asyncio\n",
        "import random\n",
        "\n",
        "from agents import Agent, ItemHelpers, Runner, function_tool\n",
        "\n",
        "\n",
        "@function_tool\n",
        "def how_many_jokes() -> int:\n",
        "    return random.randint(1, 10)\n",
        "\n",
        "\n",
        "async def main():\n",
        "    agent = Agent(\n",
        "        name=\"Joker\",\n",
        "        instructions=\"First call the `how_many_jokes` tool, then tell that many jokes.\",\n",
        "        tools=[how_many_jokes],\n",
        "        model=model\n",
        "    )\n",
        "\n",
        "    result = Runner.run_streamed(\n",
        "        agent,\n",
        "        input=\"Hello\",\n",
        "        run_config=config\n",
        "\n",
        "    )\n",
        "    print(\"=== Run starting ===\")\n",
        "    async for event in result.stream_events():\n",
        "        # We'll ignore the raw responses event deltas\n",
        "        if event.type == \"raw_response_event\":\n",
        "            continue\n",
        "        elif event.type == \"agent_updated_stream_event\":\n",
        "            print(f\"Agent updated: {event.new_agent.name}\")\n",
        "            continue\n",
        "        elif event.type == \"run_item_stream_event\":\n",
        "            if event.item.type == \"tool_call_item\":\n",
        "                print(\"-- Tool was called\")\n",
        "            elif event.item.type == \"tool_call_output_item\":\n",
        "                print(f\"-- Tool output: {event.item.output}\")\n",
        "            elif event.item.type == \"message_output_item\":\n",
        "                print(f\"-- Message output:\\n {ItemHelpers.text_message_output(event.item)}\")\n",
        "            else:\n",
        "                pass  # Ignore other event types\n",
        "\n",
        "\n",
        "\n",
        "\n",
        "\n",
        "asyncio.run(main())\n",
        "\n",
        "print(\"=== Run complete ===\")"
      ]
    },
    {
      "cell_type": "markdown",
      "metadata": {
        "id": "IrzWJYSLKAjt"
      },
      "source": [
        "# Tool"
      ]
    },
    {
      "cell_type": "code",
      "execution_count": 34,
      "metadata": {
        "id": "FPLlI2AWLTok"
      },
      "outputs": [],
      "source": [
        "import os\n",
        "from agents import Agent, Runner, AsyncOpenAI, OpenAIChatCompletionsModel\n",
        "from agents.run import RunConfig\n",
        "from google.colab import userdata\n",
        "\n",
        "\n",
        "gemini_api_key = userdata.get(\"GOOGLE_API_KEY\")\n",
        "\n",
        "\n",
        "# Check if the API key is present; if not, raise an error\n",
        "if not gemini_api_key:\n",
        "    raise ValueError(\"GEMINI_API_KEY is not set. Please ensure it is defined in your .env file.\")\n",
        "\n",
        "#Reference: https://ai.google.dev/gemini-api/docs/openai\n",
        "external_client = AsyncOpenAI(\n",
        "    api_key=gemini_api_key,\n",
        "    base_url=\"https://generativelanguage.googleapis.com/v1beta/openai/\",\n",
        ")\n",
        "\n",
        "model = OpenAIChatCompletionsModel(\n",
        "    model=\"gemini-1.5-flash\",\n",
        "    openai_client=external_client\n",
        ")\n",
        "\n",
        "config = RunConfig(\n",
        "    model=model,\n",
        "    model_provider=external_client,\n",
        "    tracing_disabled=True\n",
        ")"
      ]
    },
    {
      "cell_type": "code",
      "execution_count": 35,
      "metadata": {
        "id": "ze2F5hx-xwHr"
      },
      "outputs": [],
      "source": [
        "from agents.tool import function_tool"
      ]
    },
    {
      "cell_type": "code",
      "execution_count": 36,
      "metadata": {
        "id": "FtX1bwHvKK4m"
      },
      "outputs": [],
      "source": [
        "@function_tool(\"Student_finder\")\n",
        "def Student_finder(student_roll: int) -> str:\n",
        "  data={\n",
        "      1: 'bisma',\n",
        "      2:'noor',\n",
        "      3:'shafe',\n",
        "      4:'sumbal',\n",
        "  }\n",
        "  return data.get(student_roll,\"student not found\")\n"
      ]
    },
    {
      "cell_type": "code",
      "execution_count": 37,
      "metadata": {
        "id": "BB6GK83-LGkf"
      },
      "outputs": [],
      "source": [
        "@function_tool(\"get_weather\")\n",
        "def get_weather(location: str, unit: str = \"C\") -> str:\n",
        "  \"\"\"\n",
        "  Fetch the weather for a given location, returning a short description.\n",
        "  \"\"\"\n",
        "  # Example logic\n",
        "  return f\"The weather in {location} is 22 degrees {unit}.\""
      ]
    },
    {
      "cell_type": "code",
      "execution_count": 40,
      "metadata": {
        "colab": {
          "base_uri": "https://localhost:8080/"
        },
        "id": "4mcOfm-bKwiU",
        "outputId": "1734a147-6f03-4a8a-a72c-726994b3fc19"
      },
      "outputs": [
        {
          "name": "stdout",
          "output_type": "stream",
          "text": [
            "Hot sun shines above,\n",
            "Lahore's temperature unknown,\n",
            "API needs a key.\n",
            "\n"
          ]
        }
      ],
      "source": [
        "import asyncio\n",
        "\n",
        "from agents import Agent, Runner\n",
        "\n",
        "\n",
        "async def main():\n",
        "    agent = Agent(\n",
        "        name=\"Assistant\",\n",
        "        instructions=\"You only respond in haikus.\",\n",
        "        tools=[get_weather, Student_finder], # add tools here\n",
        "        model=model\n",
        "    )\n",
        "\n",
        "    result = await Runner.run(agent, \"whats the temperature of lahore.\")\n",
        "    print(result.final_output)\n",
        "\n",
        "\n",
        "\n",
        "if __name__ == \"__main__\":\n",
        "    asyncio.run(main())"
      ]
    },
    {
      "cell_type": "code",
      "execution_count": null,
      "metadata": {
        "id": "ol1c9bfMLEkt"
      },
      "outputs": [],
      "source": []
    }
  ],
  "metadata": {
    "colab": {
      "provenance": []
    },
    "kernelspec": {
      "display_name": "Python 3",
      "name": "python3"
    },
    "language_info": {
      "name": "python"
    }
  },
  "nbformat": 4,
  "nbformat_minor": 0
}
